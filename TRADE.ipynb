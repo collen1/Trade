{
 "cells": [
  {
   "cell_type": "code",
   "execution_count": 1,
   "id": "b46e8a21",
   "metadata": {},
   "outputs": [
    {
     "ename": "ConnectionError",
     "evalue": "ERR#0015: error 403, try again later.",
     "output_type": "error",
     "traceback": [
      "\u001b[31m---------------------------------------------------------------------------\u001b[39m",
      "\u001b[31mConnectionError\u001b[39m                           Traceback (most recent call last)",
      "\u001b[36mCell\u001b[39m\u001b[36m \u001b[39m\u001b[32mIn[1]\u001b[39m\u001b[32m, line 3\u001b[39m\n\u001b[32m      1\u001b[39m \u001b[38;5;28;01mimport\u001b[39;00m\u001b[38;5;250m \u001b[39m\u001b[34;01minvestpy\u001b[39;00m\n\u001b[32m----> \u001b[39m\u001b[32m3\u001b[39m data = \u001b[43minvestpy\u001b[49m\u001b[43m.\u001b[49m\u001b[43mget_currency_cross_historical_data\u001b[49m\u001b[43m(\u001b[49m\n\u001b[32m      4\u001b[39m \u001b[43m    \u001b[49m\u001b[43mcurrency_cross\u001b[49m\u001b[43m=\u001b[49m\u001b[33;43m'\u001b[39;49m\u001b[33;43mEUR/USD\u001b[39;49m\u001b[33;43m'\u001b[39;49m\u001b[43m,\u001b[49m\n\u001b[32m      5\u001b[39m \u001b[43m    \u001b[49m\u001b[43mfrom_date\u001b[49m\u001b[43m=\u001b[49m\u001b[33;43m'\u001b[39;49m\u001b[33;43m01/01/2025\u001b[39;49m\u001b[33;43m'\u001b[39;49m\u001b[43m,\u001b[49m\n\u001b[32m      6\u001b[39m \u001b[43m    \u001b[49m\u001b[43mto_date\u001b[49m\u001b[43m=\u001b[49m\u001b[33;43m'\u001b[39;49m\u001b[33;43m01/05/2025\u001b[39;49m\u001b[33;43m'\u001b[39;49m\u001b[43m,\u001b[49m\n\u001b[32m      7\u001b[39m \u001b[43m    \u001b[49m\u001b[43minterval\u001b[49m\u001b[43m=\u001b[49m\u001b[33;43m'\u001b[39;49m\u001b[33;43mDaily\u001b[39;49m\u001b[33;43m'\u001b[39;49m\n\u001b[32m      8\u001b[39m \u001b[43m)\u001b[49m\n\u001b[32m     10\u001b[39m \u001b[38;5;28mprint\u001b[39m(data.head())\n",
      "\u001b[36mFile \u001b[39m\u001b[32mc:\\Users\\NEPHIPHIDI RONEWA\\Downloads\\scraping\\.venv\\Lib\\site-packages\\investpy\\currency_crosses.py:674\u001b[39m, in \u001b[36mget_currency_cross_historical_data\u001b[39m\u001b[34m(currency_cross, from_date, to_date, as_json, order, interval)\u001b[39m\n\u001b[32m    671\u001b[39m req = requests.post(url, headers=head, data=params)\n\u001b[32m    673\u001b[39m \u001b[38;5;28;01mif\u001b[39;00m req.status_code != \u001b[32m200\u001b[39m:\n\u001b[32m--> \u001b[39m\u001b[32m674\u001b[39m     \u001b[38;5;28;01mraise\u001b[39;00m \u001b[38;5;167;01mConnectionError\u001b[39;00m(\n\u001b[32m    675\u001b[39m         \u001b[33m\"\u001b[39m\u001b[33mERR#0015: error \u001b[39m\u001b[33m\"\u001b[39m + \u001b[38;5;28mstr\u001b[39m(req.status_code) + \u001b[33m\"\u001b[39m\u001b[33m, try again later.\u001b[39m\u001b[33m\"\u001b[39m\n\u001b[32m    676\u001b[39m     )\n\u001b[32m    678\u001b[39m \u001b[38;5;28;01mif\u001b[39;00m \u001b[38;5;129;01mnot\u001b[39;00m req.text:\n\u001b[32m    679\u001b[39m     \u001b[38;5;28;01mcontinue\u001b[39;00m\n",
      "\u001b[31mConnectionError\u001b[39m: ERR#0015: error 403, try again later."
     ]
    }
   ],
   "source": [
    "import investpy\n",
    "\n",
    "data = investpy.get_currency_cross_historical_data(\n",
    "    currency_cross='EUR/USD',\n",
    "    from_date='01/01/2025',\n",
    "    to_date='01/05/2025',\n",
    "    interval='Daily'\n",
    ")\n",
    "\n",
    "print(data.head())\n"
   ]
  },
  {
   "cell_type": "code",
   "execution_count": null,
   "id": "56244d4c",
   "metadata": {},
   "outputs": [
    {
     "name": "stdout",
     "output_type": "stream",
     "text": [
      "200\n"
     ]
    }
   ],
   "source": [
    "import requests\n",
    "\n",
    "headers = {\n",
    "    'User-Agent': 'Mozilla/5.0 (Windows NT 10.0; Win64; x64) ' +\n",
    "                  'AppleWebKit/537.36 (KHTML, like Gecko) ' +\n",
    "                  'Chrome/114.0.0.0 Safari/537.36'\n",
    "}\n",
    "\n",
    "response = requests.get(\"https://www.investing.com/currencies/eur-usd\", headers=headers)\n",
    "print(response.status_code)\n"
   ]
  },
  {
   "cell_type": "code",
   "execution_count": null,
   "id": "739b3a8f",
   "metadata": {},
   "outputs": [
    {
     "name": "stdout",
     "output_type": "stream",
     "text": [
      "EUR USD Historical Data - Investing.com\n"
     ]
    }
   ],
   "source": [
    "from selenium import webdriver\n",
    "from selenium.webdriver.chrome.options import Options\n",
    "\n",
    "options = Options()\n",
    "options.add_argument(\"--headless\")\n",
    "options.add_argument(\"--disable-gpu\")\n",
    "\n",
    "driver = webdriver.Chrome(options=options)\n",
    "driver.get(\"https://www.investing.com/currencies/eur-usd-historical-data\")\n",
    "print(driver.title)\n",
    "driver.quit()\n"
   ]
  },
  {
   "cell_type": "code",
   "execution_count": null,
   "id": "0f868924",
   "metadata": {},
   "outputs": [],
   "source": []
  }
 ],
 "metadata": {
  "kernelspec": {
   "display_name": "Python 3",
   "language": "python",
   "name": "python3"
  },
  "language_info": {
   "codemirror_mode": {
    "name": "ipython",
    "version": 3
   },
   "file_extension": ".py",
   "mimetype": "text/x-python",
   "name": "python",
   "nbconvert_exporter": "python",
   "pygments_lexer": "ipython3",
   "version": "3.13.3"
  }
 },
 "nbformat": 4,
 "nbformat_minor": 5
}
